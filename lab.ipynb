{
 "cells": [
  {
   "cell_type": "code",
   "execution_count": 3,
   "id": "dbea4532",
   "metadata": {},
   "outputs": [],
   "source": [
    "import pprint\n",
    "from typing import List\n",
    "from matrix import CSRMatrix as Matrix "
   ]
  },
  {
   "cell_type": "markdown",
   "id": "641cc629",
   "metadata": {},
   "source": [
    "# Матрица\n"
   ]
  },
  {
   "cell_type": "code",
   "execution_count": 4,
   "id": "e5aa22d6",
   "metadata": {},
   "outputs": [
    {
     "name": "stdout",
     "output_type": "stream",
     "text": [
      "[\n",
      " [16 20]\n",
      " [ 2  4]\n",
      "] [\n",
      " [1 2]\n",
      " [3 4]\n",
      " [5 6]\n",
      "]\n",
      "0\n",
      "0\n",
      "[Decimal('5'), Decimal('6'), Decimal('7')]\n"
     ]
    }
   ],
   "source": [
    "a = Matrix([[1, 2], [3, 4], [5, 6]])\n",
    "b = Matrix([[0, 2], [2, 0], [2, 0]])\n",
    "print( b.transpose() * a , a)\n",
    "\n",
    "c = Matrix([\n",
    "    [1, 2, 3],\n",
    "    [4, 5, 6],\n",
    "    [7, 8, 9]])\n",
    "\n",
    "print(c.determinant()) # Должен быть ноль\n",
    "\n",
    "d = Matrix([\n",
    "    [2, 3, 4],\n",
    "    [5, 6, 7],\n",
    "    [8, 9, 10]\n",
    "])\n",
    "print(c.determinant())\n",
    "\n",
    "print(d[1])\n"
   ]
  },
  {
   "cell_type": "markdown",
   "id": "9fcd40c6",
   "metadata": {},
   "source": [
    "# Сама лаба\n"
   ]
  },
  {
   "cell_type": "markdown",
   "id": "6b053014",
   "metadata": {},
   "source": [
    "## Easy\n"
   ]
  },
  {
   "cell_type": "markdown",
   "id": "c1efdfd6",
   "metadata": {},
   "source": [
    "### Метод гауса\n"
   ]
  },
  {
   "cell_type": "code",
   "execution_count": null,
   "id": "45e5e524",
   "metadata": {},
   "outputs": [],
   "source": [
    "def gauss_solver(A: 'Matrix', b: 'Matrix') -> List['Matrix']:\n",
    "    n = A.size\n",
    "    augmented = A.augment(b)  # Расширенная матрица [A|b]\n",
    "    \n",
    "    # Прямой ход: приведение к ступенчатому виду\n",
    "    rank = 0\n",
    "    pivot_cols = []\n",
    "    for col in range(augmented.cols - 1):  # Исключаем последний столбец (вектор b)\n",
    "        # Поиск ненулевого элемента в текущем столбце\n",
    "        pivot_row = -1\n",
    "        for row in range(rank, n):\n",
    "            if abs(augmented[row][col]) > 1e-10:\n",
    "                pivot_row = row\n",
    "                break\n",
    "        if pivot_row == -1:\n",
    "            continue  # Все элементы столбца нулевые\n",
    "        \n",
    "        # Перестановка строк\n",
    "        augmented.swap_rows(rank, pivot_row)\n",
    "        # Нормализация ведущей строки\n",
    "        pivot = augmented[rank][col]\n",
    "        for c in range(col, augmented.cols):\n",
    "            augmented[rank][c] /= pivot\n",
    "        # Исключение элементов ниже ведущего\n",
    "        for row in range(rank + 1, n):\n",
    "            factor = augmented[row][col]\n",
    "            for c in range(col, augmented.cols):\n",
    "                augmented[row][c] -= factor * augmented[rank][c]\n",
    "        pivot_cols.append(col)\n",
    "        rank += 1\n",
    "\n",
    "    # Проверка на несовместность\n",
    "    for row in range(rank, n):\n",
    "        if abs(augmented[row][-1]) > 1e-10:\n",
    "            raise ValueError(\"Система несовместна\")\n",
    "\n",
    "    # Определение свободных переменных\n",
    "    all_vars = list(range(A.cols))\n",
    "    leading_vars = pivot_cols\n",
    "    free_vars = [var for var in all_vars if var not in leading_vars]\n",
    "    \n",
    "    # Если нет свободных переменных: единственное решение\n",
    "    if not free_vars:\n",
    "        x = [0] * A.cols\n",
    "        for row in reversed(range(rank)):\n",
    "            x[leading_vars[row]] = augmented[row][-1]\n",
    "            for col in range(leading_vars[row] + 1, A.cols):\n",
    "                x[leading_vars[row]] -= augmented[row][col] * x[col]\n",
    "        return [Matrix([x])]\n",
    "\n",
    "    # Построение базисных векторов\n",
    "    basis = []\n",
    "    for var in free_vars:\n",
    "        solution = [0] * A.cols\n",
    "        solution[var] = 1  # Свободная переменная = 1\n",
    "        # Вычисление главных переменных\n",
    "        for row in reversed(range(rank)):\n",
    "            col = leading_vars[row]\n",
    "            solution[col] = augmented[row][-1]\n",
    "            for c in range(col + 1, A.cols):\n",
    "                solution[col] -= augmented[row][c] * solution[c]\n",
    "        basis.append(Matrix([solution]))\n",
    "    \n",
    "    return basis\n"
   ]
  },
  {
   "cell_type": "code",
   "execution_count": null,
   "id": "1d67d4a7",
   "metadata": {},
   "outputs": [
    {
     "ename": "AttributeError",
     "evalue": "'Matrix' object has no attribute 'rows'",
     "output_type": "error",
     "traceback": [
      "\u001b[31m---------------------------------------------------------------------------\u001b[39m",
      "\u001b[31mAttributeError\u001b[39m                            Traceback (most recent call last)",
      "\u001b[36mCell\u001b[39m\u001b[36m \u001b[39m\u001b[32mIn[9]\u001b[39m\u001b[32m, line 8\u001b[39m\n\u001b[32m      1\u001b[39m A = Matrix([\n\u001b[32m      2\u001b[39m     [\u001b[32m1\u001b[39m, \u001b[32m2\u001b[39m, \u001b[32m3\u001b[39m],\n\u001b[32m      3\u001b[39m     [\u001b[32m4\u001b[39m, \u001b[32m5\u001b[39m, \u001b[32m6\u001b[39m],\n\u001b[32m      4\u001b[39m     [\u001b[32m7\u001b[39m, \u001b[32m8\u001b[39m, \u001b[32m9\u001b[39m]\n\u001b[32m      5\u001b[39m ])\n\u001b[32m      6\u001b[39m b = Matrix([[\u001b[32m6\u001b[39m], [\u001b[32m15\u001b[39m], [\u001b[32m24\u001b[39m]])\n\u001b[32m----> \u001b[39m\u001b[32m8\u001b[39m solutions = \u001b[43mgauss_solver\u001b[49m\u001b[43m(\u001b[49m\u001b[43mA\u001b[49m\u001b[43m,\u001b[49m\u001b[43m \u001b[49m\u001b[43mb\u001b[49m\u001b[43m)\u001b[49m  \u001b[38;5;66;03m# Возвращает базисные векторы (если система неопределённа)\u001b[39;00m\n",
      "\u001b[36mCell\u001b[39m\u001b[36m \u001b[39m\u001b[32mIn[8]\u001b[39m\u001b[32m, line 2\u001b[39m, in \u001b[36mgauss_solver\u001b[39m\u001b[34m(A, b)\u001b[39m\n\u001b[32m      1\u001b[39m \u001b[38;5;28;01mdef\u001b[39;00m\u001b[38;5;250m \u001b[39m\u001b[34mgauss_solver\u001b[39m(A: \u001b[33m'\u001b[39m\u001b[33mMatrix\u001b[39m\u001b[33m'\u001b[39m, b: \u001b[33m'\u001b[39m\u001b[33mMatrix\u001b[39m\u001b[33m'\u001b[39m) -> List[\u001b[33m'\u001b[39m\u001b[33mMatrix\u001b[39m\u001b[33m'\u001b[39m]:\n\u001b[32m----> \u001b[39m\u001b[32m2\u001b[39m     n = \u001b[43mA\u001b[49m\u001b[43m.\u001b[49m\u001b[43mrows\u001b[49m\n\u001b[32m      3\u001b[39m     augmented = A.augment(b)  \u001b[38;5;66;03m# Расширенная матрица [A|b]\u001b[39;00m\n\u001b[32m      5\u001b[39m     \u001b[38;5;66;03m# Прямой ход: приведение к ступенчатому виду\u001b[39;00m\n",
      "\u001b[31mAttributeError\u001b[39m: 'Matrix' object has no attribute 'rows'"
     ]
    }
   ],
   "source": [
    "\n",
    "A = Matrix([\n",
    "    [1, 2, 3],\n",
    "    [4, 5, 6],\n",
    "    [7, 8, 9]\n",
    "])\n",
    "b = Matrix([[6], [15], [24]])\n",
    "\n",
    "solutions = gauss_solver(A, b)  # Возвращает базисные векторы (если система неопределённа)"
   ]
  },
  {
   "cell_type": "markdown",
   "id": "dd7f72b8",
   "metadata": {},
   "source": []
  },
  {
   "cell_type": "markdown",
   "id": "d8c80d1b",
   "metadata": {},
   "source": [
    "### Центрирование данных\n"
   ]
  },
  {
   "cell_type": "code",
   "execution_count": null,
   "id": "56afe4f7",
   "metadata": {},
   "outputs": [],
   "source": [
    "def center_data(X: 'Matrix') -> 'Matrix':\n",
    "    \"\"\"\n",
    "    Centers the data matrix X by subtracting the mean of each column.\n",
    "\n",
    "    Input: data matrix X (n x m)\n",
    "    Output: centered matrix X_centered (n x m)\n",
    "    \"\"\"\n",
    "    n, m = X.size\n",
    "\n",
    "    if n == 0 or m == 0:\n",
    "        return type(X)([])\n",
    "\n",
    "    column_means = [0.0] * m\n",
    "    x_list = X.to_list()\n",
    "\n",
    "    for row in x_list:\n",
    "        for j in range(m):\n",
    "            column_means[j] += float(row[j]) / n\n",
    "\n",
    "\n",
    "    mean_matrix_list = [column_means[:] for _ in range(n)]\n",
    "    mean_matrix = type(X)(mean_matrix_list)\n",
    "\n",
    "    X_centered = X - mean_matrix\n",
    "\n",
    "    return X_centered"
   ]
  },
  {
   "cell_type": "code",
   "execution_count": null,
   "id": "f87daf5f",
   "metadata": {},
   "outputs": [
    {
     "name": "stdout",
     "output_type": "stream",
     "text": [
      "[\n",
      " [-2.0 -2.0]\n",
      " [ 0.0  0.0]\n",
      " [ 2.0  2.0]\n",
      "]\n",
      "[\n",
      " [-1.0  10.0]\n",
      " [ 0.0   0.0]\n",
      " [ 1.0 -10.0]\n",
      "]\n",
      "[\n",
      " [0.0 0.0 0.0]\n",
      "]\n",
      "[\n",
      " [-1.0]\n",
      " [ 0.0]\n",
      " [ 1.0]\n",
      "]\n"
     ]
    }
   ],
   "source": [
    "# Tests\n",
    "matrix1 = Matrix([[1.0, 2.0],\n",
    "         [3.0, 4.0],\n",
    "         [5.0, 6.0]])\n",
    "\n",
    "centered_matrix1 = center_data(matrix1)\n",
    "print(centered_matrix1)\n",
    "\n",
    "data2 = Matrix([[-1.0, 10.0],\n",
    "         [ 0.0,  0.0],\n",
    "         [ 1.0, -10.0]])\n",
    "\n",
    "centered_matrix2 = center_data(matrix2)\n",
    "print(centered_matrix2)\n",
    "\n",
    "matrix3 = Matrix([[1, 2, 3]])\n",
    "centered_matrix3 = center_data(matrix3)\n",
    "print(centered_matrix3)\n",
    "\n",
    "matrix3 = Matrix([[1, 2, 3]]).transpose()\n",
    "centered_matrix3 = center_data(matrix3)\n",
    "print(centered_matrix3)\n"
   ]
  },
  {
   "cell_type": "markdown",
   "id": "d4b6cd4b",
   "metadata": {},
   "source": [
    "### Вычислить матрицу ковариаций\n"
   ]
  },
  {
   "cell_type": "code",
   "execution_count": null,
   "id": "aa51b97b",
   "metadata": {},
   "outputs": [],
   "source": [
    "def covariance_matrix(X_centered: 'Matrix') -> 'Matrix':\n",
    "    \"\"\"\n",
    "    Вход: центрированная матрица X_centered (n×m)\n",
    "    Выход: матрица ковариаций C (m×m)\n",
    "    \"\"\"\n",
    "    pass"
   ]
  },
  {
   "cell_type": "code",
   "execution_count": null,
   "id": "0967190e",
   "metadata": {},
   "outputs": [],
   "source": [
    "# для тестов"
   ]
  },
  {
   "cell_type": "markdown",
   "id": "bf977d27",
   "metadata": {},
   "source": [
    "## Normal\n"
   ]
  },
  {
   "cell_type": "markdown",
   "id": "db916d00",
   "metadata": {},
   "source": [
    "### Собственные значения матрицы\n"
   ]
  },
  {
   "cell_type": "code",
   "execution_count": null,
   "id": "2e4f56d2",
   "metadata": {},
   "outputs": [],
   "source": [
    "def find_eigenvalues(C: 'Matrix', tol: float = 1e-6) -> List[float]:\n",
    "    \"\"\"\n",
    "    Вход:\n",
    "    C: матрица ковариаций (m×m)\n",
    "    tol: допустимая погрешность\n",
    "    Выход: список вещественных собственных значений\n",
    "    \"\"\"\n",
    "    pass"
   ]
  },
  {
   "cell_type": "code",
   "execution_count": null,
   "id": "51761ca5",
   "metadata": {},
   "outputs": [],
   "source": [
    "# для тестов"
   ]
  },
  {
   "cell_type": "markdown",
   "id": "b07d20e8",
   "metadata": {},
   "source": [
    "### Собственные векторы матрицы\n"
   ]
  },
  {
   "cell_type": "code",
   "execution_count": null,
   "id": "36a9ae18",
   "metadata": {},
   "outputs": [],
   "source": [
    "def find_eigenvectors(C: 'Matrix', eigenvalues: List[float]) -> List['Matrix']:\n",
    "    \"\"\"\n",
    "    Вход:\n",
    "    C: матрица ковариаций (m×m)\n",
    "    eigenvalues: список собственных значений\n",
    "    Выход: список собственных векторов (каждый вектор - объект Matrix)\n",
    "    \"\"\"\n",
    "    pass"
   ]
  },
  {
   "cell_type": "code",
   "execution_count": null,
   "id": "12988199",
   "metadata": {},
   "outputs": [],
   "source": [
    "# для тестов"
   ]
  },
  {
   "cell_type": "markdown",
   "id": "19038836",
   "metadata": {},
   "source": [
    "### доля объясненной дисперсии\n"
   ]
  },
  {
   "cell_type": "code",
   "execution_count": null,
   "id": "3fe60bd0",
   "metadata": {},
   "outputs": [],
   "source": [
    "def explained_variance_ratio(eigenvalues: List[float], k: int) -> float:\n",
    "    \"\"\"\n",
    "    Вход:\n",
    "    eigenvalues: список собственных значений\n",
    "    k: число компонент\n",
    "    Выход: доля объяснённой дисперсии\n",
    "    \"\"\"\n",
    "    pass"
   ]
  },
  {
   "cell_type": "code",
   "execution_count": null,
   "id": "0e5a44dd",
   "metadata": {},
   "outputs": [],
   "source": [
    "# для тестов"
   ]
  },
  {
   "cell_type": "markdown",
   "id": "f3d7d4e3",
   "metadata": {},
   "source": [
    "## Hard\n"
   ]
  },
  {
   "cell_type": "markdown",
   "id": "5211cd8a",
   "metadata": {},
   "source": [
    "### полный алгоритм PCA\n"
   ]
  },
  {
   "cell_type": "code",
   "execution_count": null,
   "id": "eae9457e",
   "metadata": {},
   "outputs": [
    {
     "ename": "NameError",
     "evalue": "name 'Tuple' is not defined",
     "output_type": "error",
     "traceback": [
      "\u001b[31m---------------------------------------------------------------------------\u001b[39m",
      "\u001b[31mNameError\u001b[39m                                 Traceback (most recent call last)",
      "\u001b[36mCell\u001b[39m\u001b[36m \u001b[39m\u001b[32mIn[34]\u001b[39m\u001b[32m, line 5\u001b[39m\n\u001b[32m      1\u001b[39m \u001b[33;03m'''1. Центрирование данных.\u001b[39;00m\n\u001b[32m      2\u001b[39m \u001b[33;03m2. Вычисление матрицы выборочных ковариаций.\u001b[39;00m\n\u001b[32m      3\u001b[39m \u001b[33;03m3. Нахождение собственных значений и векторов.\u001b[39;00m\n\u001b[32m      4\u001b[39m \u001b[33;03m4. Проекция данных на главные компоненты.'''\u001b[39;00m\n\u001b[32m----> \u001b[39m\u001b[32m5\u001b[39m \u001b[38;5;28;01mdef\u001b[39;00m\u001b[38;5;250m \u001b[39m\u001b[34mpca\u001b[39m(X: \u001b[33m'\u001b[39m\u001b[33mMatrix\u001b[39m\u001b[33m'\u001b[39m, k: \u001b[38;5;28mint\u001b[39m) -> \u001b[43mTuple\u001b[49m[\u001b[33m'\u001b[39m\u001b[33mMatrix\u001b[39m\u001b[33m'\u001b[39m, \u001b[38;5;28mfloat\u001b[39m]:\n\u001b[32m      6\u001b[39m \u001b[38;5;250m    \u001b[39m\u001b[33;03m\"\"\"\u001b[39;00m\n\u001b[32m      7\u001b[39m \u001b[33;03m    Вход:\u001b[39;00m\n\u001b[32m      8\u001b[39m \u001b[33;03m    X: матрица данных (n×m)\u001b[39;00m\n\u001b[32m   (...)\u001b[39m\u001b[32m     12\u001b[39m \u001b[33;03m    : доля объяснённой дисперсии\u001b[39;00m\n\u001b[32m     13\u001b[39m \u001b[33;03m    \"\"\"\u001b[39;00m\n\u001b[32m     14\u001b[39m     \u001b[38;5;28;01mpass\u001b[39;00m\n",
      "\u001b[31mNameError\u001b[39m: name 'Tuple' is not defined"
     ]
    }
   ],
   "source": [
    "'''1. Центрирование данных.\n",
    "2. Вычисление матрицы выборочных ковариаций.\n",
    "3. Нахождение собственных значений и векторов.\n",
    "4. Проекция данных на главные компоненты.'''\n",
    "def pca(X: 'Matrix', k: int) -> tuple['Matrix', float]:\n",
    "    \"\"\"\n",
    "    Вход:\n",
    "    X: матрица данных (n×m)\n",
    "    k: число главных компонент\n",
    "    Выход:\n",
    "    X_proj: проекция данных (n×k)\n",
    "    : доля объяснённой дисперсии\n",
    "    \"\"\"\n",
    "    pass"
   ]
  },
  {
   "cell_type": "code",
   "execution_count": null,
   "id": "2c6451e0",
   "metadata": {},
   "outputs": [],
   "source": [
    "# для тестов"
   ]
  },
  {
   "cell_type": "code",
   "execution_count": null,
   "id": "c59412ad",
   "metadata": {},
   "outputs": [],
   "source": [
    "# для тестов"
   ]
  },
  {
   "cell_type": "markdown",
   "id": "62d150c1",
   "metadata": {},
   "source": [
    "### Проекция данных на две главные компоненты\n"
   ]
  },
  {
   "cell_type": "code",
   "execution_count": null,
   "id": "56a40987",
   "metadata": {},
   "outputs": [],
   "source": [
    "# Для импортов "
   ]
  },
  {
   "cell_type": "code",
   "execution_count": null,
   "id": "41a5d4de",
   "metadata": {},
   "outputs": [],
   "source": [
    "def plot_pca_projection(X_proj: 'Matrix') -> Figure:\n",
    "    \"\"\"\n",
    "    Вход: проекция данных X_proj (n×2)\n",
    "    Выход: объект Figure из Matplotlib\n",
    "    \"\"\"\n",
    "    pass"
   ]
  },
  {
   "cell_type": "code",
   "execution_count": null,
   "id": "da358b7f",
   "metadata": {},
   "outputs": [],
   "source": [
    "# для тестов"
   ]
  },
  {
   "cell_type": "markdown",
   "id": "2f54cd60",
   "metadata": {},
   "source": [
    "### MSE\n"
   ]
  },
  {
   "cell_type": "code",
   "execution_count": null,
   "id": "36cfa1a3",
   "metadata": {},
   "outputs": [],
   "source": [
    "def reconstruction_error(X_orig: 'Matrix', X_recon: 'Matrix') -> float:\n",
    "    \"\"\"\n",
    "    Вход:\n",
    "    X_orig: исходные данные (n×m)\n",
    "    X_recon: восстановленные данные (n×m)\n",
    "    Выход: среднеквадратическая ошибка MSE\n",
    "    \"\"\"\n",
    "    pass"
   ]
  },
  {
   "cell_type": "code",
   "execution_count": null,
   "id": "f31d857c",
   "metadata": {},
   "outputs": [],
   "source": [
    "# для тестов"
   ]
  },
  {
   "cell_type": "markdown",
   "id": "0f5a83b1",
   "metadata": {},
   "source": [
    "## Expert\n"
   ]
  },
  {
   "cell_type": "markdown",
   "id": "b9ba475c",
   "metadata": {},
   "source": [
    "### Автоматический выбор числа главных компонент на основе порога объяснённой дисперсии\n"
   ]
  },
  {
   "cell_type": "code",
   "execution_count": null,
   "id": "ab874404",
   "metadata": {},
   "outputs": [],
   "source": [
    "def auto_select_k(eigenvalues: List[float], threshold: float = 0.95) -> int:\n",
    "    \"\"\"\n",
    "    Вход:\n",
    "    eigenvalues: список собственных значений\n",
    "    threshold: порог объяснённой дисперсии\n",
    "    Выход: оптимальное число главных компонент k\n",
    "    \"\"\"\n",
    "    pass"
   ]
  },
  {
   "cell_type": "code",
   "execution_count": null,
   "id": "4741358b",
   "metadata": {},
   "outputs": [],
   "source": [
    "# Для тестов и результатов"
   ]
  },
  {
   "cell_type": "markdown",
   "id": "61b1fe55",
   "metadata": {},
   "source": [
    "### Обработать пропущенные значения в данных\n"
   ]
  },
  {
   "cell_type": "code",
   "execution_count": null,
   "id": "aabd0bf1",
   "metadata": {},
   "outputs": [],
   "source": [
    "def handle_missing_values(X: 'Matrix') -> 'Matrix':\n",
    "    \"\"\"\n",
    "    Вход: матрица данных X (n×m) с возможными NaN\n",
    "    Выход: матрица данных X_filled (n×m) без NaN\n",
    "    \"\"\"\n",
    "    pass"
   ]
  },
  {
   "cell_type": "code",
   "execution_count": null,
   "id": "95b6a2e3",
   "metadata": {},
   "outputs": [],
   "source": [
    "# Для тестов и результатов"
   ]
  },
  {
   "cell_type": "markdown",
   "id": "a055002e",
   "metadata": {},
   "source": [
    "### Влияние шума на PCA\n"
   ]
  },
  {
   "cell_type": "code",
   "execution_count": null,
   "id": "98d2b365",
   "metadata": {},
   "outputs": [],
   "source": [
    "def add_noise_and_compare(X: 'Matrix', noise_level: float = 0.1):\n",
    "    \"\"\"\n",
    "    Вход:\n",
    "    X: матрица данных (n×m)\n",
    "    noise_level: уровень шума (доля от стандартного отклонения)\n",
    "    Выход: результаты PCA до и после добавления шума.\n",
    "    В этом задании можете проявить творческие способности, поэтому выходные данные не\n",
    "    ,→ типизированы.\n",
    "    \"\"\"\n",
    "    pass"
   ]
  },
  {
   "cell_type": "code",
   "execution_count": null,
   "id": "d8b90631",
   "metadata": {},
   "outputs": [],
   "source": [
    "# Для тестов и результатов работы"
   ]
  },
  {
   "cell_type": "markdown",
   "id": "4399eca6",
   "metadata": {},
   "source": [
    "### PCA к реальному датасету\n"
   ]
  },
  {
   "cell_type": "code",
   "execution_count": null,
   "id": "cf015d76",
   "metadata": {},
   "outputs": [],
   "source": [
    "# Для импорттов"
   ]
  },
  {
   "cell_type": "code",
   "execution_count": null,
   "id": "4fc933ff",
   "metadata": {},
   "outputs": [],
   "source": [
    "# Для загрузки"
   ]
  },
  {
   "cell_type": "code",
   "execution_count": null,
   "id": "60c7ac00",
   "metadata": {},
   "outputs": [],
   "source": [
    "def apply_pca_to_dataset(dataset_name: str, k: int) -> Tuple['Matrix', float]:\n",
    "    \"\"\"\n",
    "    Вход:\n",
    "    dataset_name: название датасета\n",
    "    k: число главных компонент\n",
    "    Выход: кортеж (проекция данных, качество модели)\n",
    "    \"\"\"\n",
    "    pass"
   ]
  },
  {
   "cell_type": "code",
   "execution_count": null,
   "id": "2cfc14fd",
   "metadata": {},
   "outputs": [],
   "source": [
    "# Применение и результаты"
   ]
  }
 ],
 "metadata": {
  "kernelspec": {
   "display_name": "loveenv",
   "language": "python",
   "name": "python3"
  },
  "language_info": {
   "codemirror_mode": {
    "name": "ipython",
    "version": 3
   },
   "file_extension": ".py",
   "mimetype": "text/x-python",
   "name": "python",
   "nbconvert_exporter": "python",
   "pygments_lexer": "ipython3",
   "version": "3.12.9"
  }
 },
 "nbformat": 4,
 "nbformat_minor": 5
}
