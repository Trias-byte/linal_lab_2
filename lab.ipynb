{
 "cells": [
  {
   "cell_type": "code",
   "execution_count": 1,
   "id": "dbea4532",
   "metadata": {},
   "outputs": [],
   "source": [
    "import pprint"
   ]
  },
  {
   "cell_type": "code",
   "execution_count": null,
   "id": "2a762e00",
   "metadata": {},
   "outputs": [],
   "source": [
    "class Matrix:\n",
    "    def __init__(self, mat:list[list]):\n",
    "        self.mat = mat\n",
    "        self.size = (len(self.mat), len(self.mat[0]))\n",
    "\n",
    "    def __str__(self):\n",
    "        return \"\\n\" + \"\\n\".join(str(x) for x in self.mat) + \"\\n\"\n",
    "    \n",
    "    def __eq__(self, b):\n",
    "        return all([x in self.mat for x in b.mat ]) and self.size == b.size\n",
    "    \n",
    "    def __ne__(self, b):\n",
    "        return not (self == b)\n",
    "\n",
    "    def __getitem__(self, key):\n",
    "        return self.mat[key[0]][key[1]]\n",
    "    \n",
    "    def __add__(self, b):\n",
    "        if self.size != self.size:\n",
    "            raise ValueError(\"Разная размерность матриц\")\n",
    "        mat = []\n",
    "        for i in range(self.size[0]): \n",
    "            row = []\n",
    "            for y in range(self.size[1]):\n",
    "                row.append(self[(i, y)] + b[(i, y)])\n",
    "            mat.append(row)\n",
    "        return Matrix(mat)\n",
    "    \n",
    "    def __sub__(self, b):\n",
    "        if self.size != self.size:\n",
    "            raise ValueError(\"Разная размерность матриц\")\n",
    "        mat = []\n",
    "        for i in range(self.size[0]): \n",
    "            row = []\n",
    "            for y in range(self.size[1]):\n",
    "                row.append(self[(i, y)] - b[(i, y)])\n",
    "            mat.append(row)\n",
    "        return Matrix(mat)\n",
    "    def __mul__(self, b):\n",
    "        if isinstance(b, (int, float)):\n",
    "            mat = []\n",
    "            for i in range(self.size[0]): \n",
    "                row = []\n",
    "                for y in range(self.size[1]):\n",
    "                    row.append(self[(i, y)] * b)\n",
    "                mat.append(row)\n",
    "            return Matrix(mat)\n",
    "        \n",
    "        elif isinstance(b, (Matrix, list)):\n",
    "            if self.size[1] != b.size[0]:\n",
    "                raise ValueError(f\"Разная размерность матриц {self.size} и {b.size}\" )\n",
    "            mat = []\n",
    "            for i in range(self.size[0]): \n",
    "                row = []\n",
    "                for y in range(b.size[1]):\n",
    "                    row.append(sum([self[(i, k)] * b[(k, y)] for k in range(self.size[1])]))\n",
    "                mat.append(row)\n",
    "            return Matrix(mat)\n",
    "        \n",
    "        else:\n",
    "            raise TypeError(\"Можно умножать только на число (int или float)\")\n",
    "    def __rmul__(self, b):\n",
    "        return self.__mul__(b)\n",
    "    \n",
    "\n",
    "    def __neg__(self):\n",
    "\n",
    "        \n",
    "    def transpose(self):\n",
    "        a = []\n",
    "        \n",
    "        for i in range(self.size[1]): \n",
    "            row = []\n",
    "            for j in range(self.size[0]):\n",
    "                row.append(self.mat[j][i])\n",
    "            a.append(row)\n",
    "        return Matrix(a)\n",
    "    \n",
    "    def get_det():\n",
    "\n",
    "        \n",
    "    "
   ]
  },
  {
   "cell_type": "code",
   "execution_count": 115,
   "id": "e5aa22d6",
   "metadata": {},
   "outputs": [
    {
     "name": "stdout",
     "output_type": "stream",
     "text": [
      "\n",
      "[0, 2]\n",
      "[2, 0]\n",
      "[2, 0]\n",
      " \n",
      "[0, 2, 2]\n",
      "[2, 0, 0]\n",
      "\n"
     ]
    }
   ],
   "source": [
    "a = Matrix([[1, 0], [0, 1]])\n",
    "b = Matrix([[0, 2], [2, 0], [2, 0]])\n",
    "print( b * a , a * b.transpose())\n"
   ]
  }
 ],
 "metadata": {
  "kernelspec": {
   "display_name": "Python 3",
   "language": "python",
   "name": "python3"
  },
  "language_info": {
   "codemirror_mode": {
    "name": "ipython",
    "version": 3
   },
   "file_extension": ".py",
   "mimetype": "text/x-python",
   "name": "python",
   "nbconvert_exporter": "python",
   "pygments_lexer": "ipython3",
   "version": "3.13.3"
  }
 },
 "nbformat": 4,
 "nbformat_minor": 5
}
