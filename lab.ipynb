{
 "cells": [
  {
   "cell_type": "code",
   "execution_count": 3,
   "id": "dbea4532",
   "metadata": {},
   "outputs": [],
   "source": [
    "import math\n",
    "from typing import List\n",
    "from matrix import CSRMatrix as Matrix \n",
    "from decimal import Decimal, getcontext"
   ]
  },
  {
   "cell_type": "markdown",
   "id": "9fcd40c6",
   "metadata": {},
   "source": [
    "# Сама лаба\n"
   ]
  },
  {
   "cell_type": "markdown",
   "id": "6b053014",
   "metadata": {},
   "source": [
    "## Easy\n"
   ]
  },
  {
   "cell_type": "markdown",
   "id": "c1efdfd6",
   "metadata": {},
   "source": [
    "### Метод гауса\n"
   ]
  },
  {
   "cell_type": "code",
   "execution_count": 4,
   "id": "45e5e524",
   "metadata": {},
   "outputs": [],
   "source": [
    "def gauss_solver(A: 'Matrix', b: 'Matrix') -> List['Matrix']:\n",
    "    n = A.size\n",
    "    augmented = A.augment(b)  # Расширенная матрица [A|b]\n",
    "    \n",
    "    # Прямой ход: приведение к ступенчатому виду\n",
    "    rank = 0\n",
    "    pivot_cols = []\n",
    "    for col in range(augmented.cols - 1):  # Исключаем последний столбец (вектор b)\n",
    "        # Поиск ненулевого элемента в текущем столбце\n",
    "        pivot_row = -1\n",
    "        for row in range(rank, n):\n",
    "            if abs(augmented[row][col]) > 1e-10:\n",
    "                pivot_row = row\n",
    "                break\n",
    "        if pivot_row == -1:\n",
    "            continue  # Все элементы столбца нулевые\n",
    "        \n",
    "        # Перестановка строк\n",
    "        augmented.swap_rows(rank, pivot_row)\n",
    "        # Нормализация ведущей строки\n",
    "        pivot = augmented[rank][col]\n",
    "        for c in range(col, augmented.cols):\n",
    "            augmented[rank][c] /= pivot\n",
    "        # Исключение элементов ниже ведущего\n",
    "        for row in range(rank + 1, n):\n",
    "            factor = augmented[row][col]\n",
    "            for c in range(col, augmented.cols):\n",
    "                augmented[row][c] -= factor * augmented[rank][c]\n",
    "        pivot_cols.append(col)\n",
    "        rank += 1\n",
    "\n",
    "    # Проверка на несовместность\n",
    "    for row in range(rank, n):\n",
    "        if abs(augmented[row][-1]) > 1e-10:\n",
    "            raise ValueError(\"Система несовместна\")\n",
    "\n",
    "    # Определение свободных переменных\n",
    "    all_vars = list(range(A.cols))\n",
    "    leading_vars = pivot_cols\n",
    "    free_vars = [var for var in all_vars if var not in leading_vars]\n",
    "    \n",
    "    # Если нет свободных переменных: единственное решение\n",
    "    if not free_vars:\n",
    "        x = [0] * A.cols\n",
    "        for row in reversed(range(rank)):\n",
    "            x[leading_vars[row]] = augmented[row][-1]\n",
    "            for col in range(leading_vars[row] + 1, A.cols):\n",
    "                x[leading_vars[row]] -= augmented[row][col] * x[col]\n",
    "        return [Matrix([x])]\n",
    "\n",
    "    # Построение базисных векторов\n",
    "    basis = []\n",
    "    for var in free_vars:\n",
    "        solution = [0] * A.cols\n",
    "        solution[var] = 1  # Свободная переменная = 1\n",
    "        # Вычисление главных переменных\n",
    "        for row in reversed(range(rank)):\n",
    "            col = leading_vars[row]\n",
    "            solution[col] = augmented[row][-1]\n",
    "            for c in range(col + 1, A.cols):\n",
    "                solution[col] -= augmented[row][c] * solution[c]\n",
    "        basis.append(Matrix([solution]))\n",
    "    \n",
    "    return basis\n"
   ]
  },
  {
   "cell_type": "code",
   "execution_count": 5,
   "id": "1d67d4a7",
   "metadata": {},
   "outputs": [],
   "source": [
    "\n",
    "# A = Matrix([ [1, 2, 3], [4, 5, 6],\n",
    "#     [7, 8, 9]\n",
    "# ])\n",
    "# b = Matrix([[6], [15], [24]])\n",
    "\n",
    "# solutions = gauss_solver(A, b)  # Возвращает базисные векторы (если система неопределённа)"
   ]
  },
  {
   "cell_type": "markdown",
   "id": "dd7f72b8",
   "metadata": {},
   "source": []
  },
  {
   "cell_type": "markdown",
   "id": "d8c80d1b",
   "metadata": {},
   "source": [
    "### Центрирование данных\n"
   ]
  },
  {
   "cell_type": "code",
   "execution_count": 6,
   "id": "56afe4f7",
   "metadata": {},
   "outputs": [],
   "source": [
    "def center_data(X: 'Matrix') -> 'Matrix':\n",
    "    \"\"\"\n",
    "    Centers the data matrix X by subtracting the mean of each column.\n",
    "\n",
    "    Input: data matrix X (n x m)\n",
    "    Output: centered matrix X_centered (n x m)\n",
    "    \"\"\"\n",
    "    n, m = X.size\n",
    "\n",
    "    if n == 0 or m == 0:\n",
    "        return type(X)([])\n",
    "\n",
    "    column_means = [0.0] * m\n",
    "    x_list = X.to_list()\n",
    "\n",
    "    for row in x_list:\n",
    "        for j in range(m):\n",
    "            column_means[j] += float(row[j]) / n\n",
    "\n",
    "\n",
    "    mean_matrix_list = [column_means[:] for _ in range(n)]\n",
    "    mean_matrix = type(X)(mean_matrix_list)\n",
    "\n",
    "    X_centered = X - mean_matrix\n",
    "\n",
    "    return X_centered"
   ]
  },
  {
   "cell_type": "code",
   "execution_count": 7,
   "id": "f87daf5f",
   "metadata": {},
   "outputs": [
    {
     "name": "stdout",
     "output_type": "stream",
     "text": [
      "[\n",
      " [-2.0 -2.0]\n",
      " [ 0.0  0.0]\n",
      " [ 2.0  2.0]\n",
      "]\n",
      "\n",
      "[\n",
      " [-1.0  10.0]\n",
      " [ 0.0   0.0]\n",
      " [ 1.0 -10.0]\n",
      "]\n",
      "\n",
      "[\n",
      " [0.0 0.0 0.0]\n",
      "]\n",
      "\n",
      "[\n",
      " [-1.0]\n",
      " [ 0.0]\n",
      " [ 1.0]\n",
      "]\n",
      "\n"
     ]
    }
   ],
   "source": [
    "# Tests\n",
    "matrix1 = Matrix([[1.0, 2.0],\n",
    "         [3.0, 4.0],\n",
    "         [5.0, 6.0]])\n",
    "\n",
    "centered_matrix1 = center_data(matrix1)\n",
    "print(centered_matrix1, end='\\n\\n')\n",
    "\n",
    "matrix2= Matrix([[-1.0, 10.0],\n",
    "         [ 0.0,  0.0],\n",
    "         [ 1.0, -10.0]])\n",
    "\n",
    "centered_matrix2 = center_data(matrix2)\n",
    "print(centered_matrix2, end='\\n\\n')\n",
    "\n",
    "matrix3 = Matrix([[1, 2, 3]])\n",
    "centered_matrix3 = center_data(matrix3)\n",
    "print(centered_matrix3, end ='\\n\\n')\n",
    "\n",
    "matrix4 = Matrix([[1, 2, 3]]).transpose()\n",
    "centered_matrix3 = center_data(matrix4)\n",
    "print(centered_matrix3, end='\\n\\n')\n"
   ]
  },
  {
   "cell_type": "markdown",
   "id": "d4b6cd4b",
   "metadata": {},
   "source": [
    "### Вычислить матрицу ковариаций\n"
   ]
  },
  {
   "cell_type": "code",
   "execution_count": 8,
   "id": "aa51b97b",
   "metadata": {},
   "outputs": [],
   "source": [
    "def covariance_matrix(X_centered: 'Matrix') -> 'Matrix':\n",
    "    \"\"\"\n",
    "    Вход: центрированная матрица X_centered (n×m)\n",
    "    Выход: матрица ковариаций C (m×m)\n",
    "    \"\"\"\n",
    "    n, m = X_centered.size\n",
    "    if n <= 1:\n",
    "        print('z')\n",
    "        return Matrix([[0] * m] * m)\n",
    "    return X_centered.transpose() * X_centered * (1/(n-1))"
   ]
  },
  {
   "cell_type": "code",
   "execution_count": 9,
   "id": "0967190e",
   "metadata": {},
   "outputs": [
    {
     "name": "stdout",
     "output_type": "stream",
     "text": [
      "Input X_centered:\n",
      "[\n",
      " [ 1 -1]\n",
      " [-1  1]\n",
      "]\n",
      "Computed Covariance Matrix:\n",
      "[\n",
      " [ 2.0 -2.0]\n",
      " [-2.0  2.0]\n",
      "]\n",
      "--------------------\n",
      "Input X_centered:\n",
      "[\n",
      " [ 1  2  3]\n",
      " [ 0  0  0]\n",
      " [-1 -2 -3]\n",
      "]\n",
      "Computed Covariance Matrix:\n",
      "[\n",
      " [1.0 2.0 3.0]\n",
      " [2.0 4.0 6.0]\n",
      " [3.0 6.0 9.0]\n",
      "]\n",
      "--------------------\n",
      "Test Case 3 (Single Sample):\n",
      "z\n",
      "Input X_centered:\n",
      "[\n",
      " [10 20]\n",
      "]\n",
      "Computed Covariance Matrix:\n",
      "[\n",
      " [0 0]\n",
      " [0 0]\n",
      "]\n",
      "--------------------\n"
     ]
    }
   ],
   "source": [
    "# --- Tests ---\n",
    "\n",
    "\n",
    "data1_centered = Matrix([[1, -1], [-1, 1]])\n",
    "cov_matrix1 = covariance_matrix(data1_centered)\n",
    "print(\"Input X_centered:\")\n",
    "print(data1_centered)\n",
    "print(\"Computed Covariance Matrix:\")\n",
    "print(cov_matrix1)\n",
    "expected_cov1 = Matrix([[Decimal(2), Decimal(-2)], [Decimal(-2), Decimal(2)]])\n",
    "print(\"-\" * 20)\n",
    "\n",
    "\n",
    "data2_centered = Matrix([[1, 2, 3], [0, 0, 0], [-1, -2, -3]])\n",
    "cov_matrix2 = covariance_matrix(data2_centered)\n",
    "print(\"Input X_centered:\")\n",
    "print(data2_centered)\n",
    "print(\"Computed Covariance Matrix:\")\n",
    "print(cov_matrix2)\n",
    "expected_cov2 = Matrix([[Decimal(1), Decimal(2), Decimal(3)], [Decimal(2), Decimal(4), Decimal(6)], [Decimal(3), Decimal(6), Decimal(9)]])\n",
    "print(\"-\" * 20)\n",
    "\n",
    "# Test case 3: Matrix with one sample (should handle this edge case)\n",
    "print(\"Test Case 3 (Single Sample):\")\n",
    "data3_centered = Matrix([[10, 20]])\n",
    "cov_matrix3 = covariance_matrix(data3_centered)\n",
    "print(\"Input X_centered:\")\n",
    "print(data3_centered)\n",
    "print(\"Computed Covariance Matrix:\")\n",
    "print(cov_matrix3)\n",
    "expected_cov3 = Matrix([[Decimal(0), Decimal(0)], [Decimal(0), Decimal(0)]])\n",
    "print(\"-\" * 20)"
   ]
  },
  {
   "cell_type": "markdown",
   "id": "bf977d27",
   "metadata": {},
   "source": [
    "## Normal\n"
   ]
  },
  {
   "cell_type": "markdown",
   "id": "90105f40",
   "metadata": {},
   "source": [
    "### Jacobi method to find eigenvalues and eigenvectors"
   ]
  },
  {
   "cell_type": "code",
   "execution_count": 28,
   "id": "016bf4b1",
   "metadata": {},
   "outputs": [],
   "source": [
    "# Assuming the ABCMatrix and Matrix classes are defined as provided\n",
    "# from matrix import Matrix as Matrix # Используем предоставленный класс напрямую\n",
    "\n",
    "# Helper function to create an identity matrix using Matrix\n",
    "def identity_matrix(size: int, dtype: type) -> 'Matrix':\n",
    "    \"\"\"Creates an identity matrix of given size and dtype.\"\"\"\n",
    "    if size <= 0:\n",
    "        raise ValueError(\"Size must be positive.\")\n",
    "    # Initialize with appropriate zero and one based on dtype\n",
    "    zero_val = dtype(0)\n",
    "    one_val = dtype(1) if dtype is not complex else complex(1)\n",
    "\n",
    "    mat = [[zero_val] * size for _ in range(size)]\n",
    "    for i in range(size):\n",
    "        mat[i][i] = one_val\n",
    "    return Matrix(mat)\n",
    "\n",
    "# Helper function to get a column as a Matrix (column vector)\n",
    "def get_column_as_vector(matrix: 'Matrix', col_idx: int) -> 'Matrix':\n",
    "    \"\"\"Extracts a column from a matrix and returns it as a column vector.\"\"\"\n",
    "    if not 0 <= col_idx < matrix.size[1]:\n",
    "        raise IndexError(f\"Column index {col_idx} out of bounds for matrix size {matrix.size}.\")\n",
    "    return Matrix([[matrix[i, col_idx]] for i in range(matrix.size[0])])\n",
    "\n",
    "\n",
    "def jacobi_step(A: 'Matrix', V: 'Matrix', p: int, q: int, angle: float) -> tuple['Matrix', 'Matrix']:\n",
    "    \"\"\"\n",
    "    Выполняет один шаг метода Якоби (вращение) и обновляет матрицу собственных векторов.\n",
    "\n",
    "    Вход:\n",
    "    A: текущая матрица (будет преобразована)\n",
    "    V: текущая матрица собственных векторов (будет преобразована)\n",
    "    p, q: индексы внедиагонального элемента\n",
    "    angle: угол поворота\n",
    "    Выход: кортеж (преобразованная матрица A', преобразованная матрица V')\n",
    "    \"\"\"\n",
    "    n = A.size[0]\n",
    "    cos_a = math.cos(float(angle))\n",
    "    sin_a = math.sin(float(angle))\n",
    "    dtype = A.dtype\n",
    "\n",
    "    # Construct the rotation matrix J(p, q, angle)\n",
    "    J_data = [[dtype(0)] * n for _ in range(n)]\n",
    "    one_val = dtype(1) if dtype is not complex else complex(1)\n",
    "\n",
    "    for k in range(n):\n",
    "        J_data[k][k] = one_val\n",
    "\n",
    "    J_data[p][p] = dtype(cos_a) if dtype is not complex else complex(cos_a)\n",
    "    J_data[q][q] = dtype(cos_a) if dtype is not complex else complex(cos_a)\n",
    "    J_data[p][q] = dtype(sin_a) if dtype is not complex else complex(sin_a)\n",
    "    J_data[q][p] = dtype(-sin_a) if dtype is not complex else complex(-sin_a)\n",
    "\n",
    "    J = Matrix(J_data)\n",
    "\n",
    "    # Apply the transformation A' = J^T * A * J\n",
    "    J_transpose = J.transpose()\n",
    "    A_prime = (J_transpose * A) * J\n",
    "\n",
    "    # Update the eigenvector matrix V' = V * J\n",
    "    V_prime = V * J\n",
    "\n",
    "    return A_prime, V_prime\n",
    "\n",
    "\n",
    "def jacobi_eigen_decomposition(\n",
    "    C: \"Matrix\", tol: float = 1e-6, max_iterations: int = 100\n",
    ") -> tuple['Matrix', 'Matrix']:\n",
    "    \"\"\"\n",
    "    Выполняет итерации метода Якоби для приведения симметричной матрицы к диагональному виду\n",
    "    и нахождения матрицы собственных векторов.\n",
    "\n",
    "    Вход:\n",
    "    C: симметричная матрица (m×m)\n",
    "    tol: допустимая погрешность (максимальное абсолютное значение внедиагонального элемента)\n",
    "    max_iterations: максимальное количество итераций\n",
    "    Выход: кортеж (матрица с собственными значениями на диагонали, матрица собственных векторов)\n",
    "    \"\"\"\n",
    "    if C.size[0] != C.size[1]:\n",
    "        raise ValueError(\"Input matrix must be square.\")\n",
    "    if C.dtype is complex:\n",
    "        raise TypeError(\"Jacobi method implementation expects a real matrix.\")\n",
    "\n",
    "    n = C.size[0]\n",
    "    A = C.copy()\n",
    "    V = identity_matrix(n, A.dtype) \n",
    "\n",
    "    for iteration in range(max_iterations):\n",
    "        # Find the largest off-diagonal element (in absolute value)\n",
    "        max_val = 0\n",
    "        p, q = 0, 0\n",
    "        for i in range(n):\n",
    "            for j in range(i + 1, n): \n",
    "                abs_val = abs(A[i, j])\n",
    "                if abs_val > max_val:\n",
    "                    max_val = abs_val\n",
    "                    p, q = i, j\n",
    "\n",
    "        if max_val < tol:\n",
    "            break\n",
    "\n",
    "        # Calculate rotation angle\n",
    "        app = A[p, p]\n",
    "        aqq = A[q, q]\n",
    "        apq = A[p, q]\n",
    "\n",
    "        # Calculate tan(2*theta) and then theta\n",
    "        denominator = app - aqq\n",
    "        if abs(denominator) < 1e-12: # Use a small epsilon for comparison\n",
    "            angle = math.pi / 4.0 if apq >= 0 else -math.pi / 4.0\n",
    "        else:\n",
    "            angle = math.atan2(2.0 * float(apq), float(denominator)) / 2.0\n",
    "\n",
    "        A, V = jacobi_step(A, V, p, q, angle)\n",
    "\n",
    "    return A, V\n",
    "\n",
    "\n",
    "def find_eigenvalues_and_vectors(\n",
    "    C: \"Matrix\", tol: float = 1e-6, max_iterations: int = 100\n",
    ") -> list[tuple[float, 'Matrix']]:\n",
    "    \"\"\"\n",
    "    Находит собственные значения и соответствующие им собственные векторы симметричной матрицы методом Якоби.\n",
    "\n",
    "    Вход:\n",
    "    C: симметричная матрица ковариаций (m×m)\n",
    "    tol: допустимая погрешность (максимальное абсолютное значение внедиагонального элемента)\n",
    "    max_iterations: максимальное количество итераций\n",
    "    Выход: список кортежей (собственное значение, собственный вектор), отсортированный по убыванию собственных значений.\n",
    "           Каждый собственный вектор - объект Matrix (столбец).\n",
    "    \"\"\"\n",
    "    # Perform the Jacobi decomposition to get the diagonalized matrix and eigenvector matrix\n",
    "    diagonalized_matrix, eigenvector_matrix = jacobi_eigen_decomposition(C, tol, max_iterations)\n",
    "\n",
    "    n = diagonalized_matrix.size[0]\n",
    "    eigen_pairs = []\n",
    "\n",
    "    # Extract eigenvalues from the diagonal and corresponding eigenvectors from the columns of V\n",
    "    for i in range(n):\n",
    "        eigenvalue = float(diagonalized_matrix[i, i])\n",
    "        eigenvector = get_column_as_vector(eigenvector_matrix, i)\n",
    "        eigen_pairs.append((eigenvalue, eigenvector))\n",
    "\n",
    "    # Sort the eigen-pairs by eigenvalue in descending order\n",
    "    eigen_pairs.sort(key=lambda pair: pair[0], reverse=True)\n",
    "\n",
    "    return eigen_pairs"
   ]
  },
  {
   "cell_type": "markdown",
   "id": "db916d00",
   "metadata": {},
   "source": [
    "### Собственные значения матрицы\n"
   ]
  },
  {
   "cell_type": "code",
   "execution_count": 29,
   "id": "2e4f56d2",
   "metadata": {},
   "outputs": [],
   "source": [
    "def find_eigenvalues(\n",
    "    C: \"Matrix\", tol: float = 1e-6, max_iterations: int = 100\n",
    ") -> list[float]:\n",
    "    \"\"\"\n",
    "    Находит собственные значения симметричной матрицы методом Якоби.\n",
    "\n",
    "    Вход:\n",
    "    C: симметричная матрица ковариаций (m×m)\n",
    "    tol: допустимая погрешность (максимальное абсолютное значение внедиагонального элемента)\n",
    "    max_iterations: максимальное количество итераций\n",
    "    Выход: список вещественных собственных значений, отсортированный по убыванию.\n",
    "    \"\"\"\n",
    "    eigen_pairs = find_eigenvalues_and_vectors(C, tol, max_iterations)\n",
    "    return [pair[0] for pair in eigen_pairs]"
   ]
  },
  {
   "cell_type": "markdown",
   "id": "b07d20e8",
   "metadata": {},
   "source": [
    "### Собственные векторы матрицы\n"
   ]
  },
  {
   "cell_type": "code",
   "execution_count": 31,
   "id": "36a9ae18",
   "metadata": {},
   "outputs": [],
   "source": [
    "\n",
    "def find_eigenvectors(C: 'Matrix', tol: float = 1e-6, max_iterations: int = 100) -> List['Matrix']:\n",
    "    \"\"\"\n",
    "    Находит собственные векторы симметричной матрицы методом Якоби.\n",
    "    ВАЖНО: Собственные векторы соответствуют собственным значениям,\n",
    "    возвращаемым функцией find_eigenvalues, в том же порядке.\n",
    "\n",
    "    Вход:\n",
    "    C: симметричная матрица ковариаций (m×m)\n",
    "    tol: допустимая погрешность\n",
    "    max_iterations: максимальное количество итераций\n",
    "    Выход: список собственных векторов (каждый вектор - объект Matrix столбец),\n",
    "           отсортированный в соответствии с убывающими собственными значениями.\n",
    "    \"\"\"\n",
    "    eigen_pairs = find_eigenvalues_and_vectors(C, tol, max_iterations)\n",
    "    return [pair[1] for pair in eigen_pairs]\n",
    "\n"
   ]
  },
  {
   "cell_type": "code",
   "execution_count": 32,
   "id": "12988199",
   "metadata": {},
   "outputs": [
    {
     "name": "stdout",
     "output_type": "stream",
     "text": [
      "Тестируем функцию find_eigenvalues_and_vectors:\n",
      "Матрица:\n",
      "[\n",
      " [2.0 1.0]\n",
      " [1.0 2.0]\n",
      "]\n",
      "Найденные пары (собственное значение, собственный вектор):\n",
      "[(3.0, '[\\n [0.70711]\\n [0.70711]\\n]'), (1.0, '[\\n [ 0.70711]\\n [-0.70711]\\n]')]\n",
      "\n",
      "Тестируем функцию find_eigenvalues (использует find_eigenvalues_and_vectors):\n",
      "Найденные собственные значения: [3.0, 1.0]\n",
      "\n",
      "Тестируем функцию find_eigenvectors (использует find_eigenvalues_and_vectors):\n",
      "Найденные собственные векторы:\n",
      "['[\\n [0.70711]\\n [0.70711]\\n]', '[\\n [ 0.70711]\\n [-0.70711]\\n]']\n",
      "\n",
      "==============================\n",
      "\n",
      "Матрица:\n",
      "[\n",
      " [4.0 1.0 2.0]\n",
      " [1.0 5.0 0.0]\n",
      " [2.0 0.0 3.0]\n",
      "]\n",
      "Найденные пары (собственное значение, собственный вектор):\n",
      "[(5.804112903938886, <matrix.CSRMatrix object at 0x756566639a20>), (4.86274801912311, <matrix.CSRMatrix object at 0x75656663a270>), (1.3331390769379987, <matrix.CSRMatrix object at 0x756566639940>)]\n",
      "\n",
      "Тестируем функцию find_eigenvalues (использует find_eigenvalues_and_vectors):\n",
      "Найденные собственные значения: [5.804112903938886, 4.86274801912311, 1.3331390769379987]\n",
      "\n",
      "Тестируем функцию find_eigenvectors (использует find_eigenvalues_and_vectors):\n",
      "Найденные собственные векторы:\n",
      "[<matrix.CSRMatrix object at 0x756566638d00>, <matrix.CSRMatrix object at 0x75656663a430>, <matrix.CSRMatrix object at 0x756566638a60>]\n"
     ]
    }
   ],
   "source": [
    "# --- Тесты функций ---\n",
    "print(\"Тестируем функцию find_eigenvalues_and_vectors:\")\n",
    "\n",
    "# Пример симметричной матрицы 2x2 с известными собственными значениями (3 и 1)\n",
    "# Matrix: [[2, 1], [1, 2]]\n",
    "# Eigenvectors should be proportional to [1, 1] and [-1, 1] (or [1, -1]), orthonormal: approx [0.707, 0.707] and [-0.707, 0.707]\n",
    "matrix_data_2x2 = [[2.0, 1.0], [1.0, 2.0]]\n",
    "mat_2x2 = Matrix(matrix_data_2x2)\n",
    "\n",
    "eigen_pairs_2x2 = find_eigenvalues_and_vectors(mat_2x2)\n",
    "print(f\"Матрица:\\n{mat_2x2}\")\n",
    "print(f\"Найденные пары (собственное значение, собственный вектор):\\n{[(v, str(m)) for v, m in eigen_pairs_2x2]}\")\n",
    "# Ожидаемые пары: примерно (3.0, [[0.707], [0.707]]), (1.0, [[-0.707], [0.707]]) или аналогичные с другими знаками/порядком векторов для повторяющихся значений\n",
    "\n",
    "\n",
    "print(\"\\nТестируем функцию find_eigenvalues (использует find_eigenvalues_and_vectors):\")\n",
    "eigenvalues_2x2 = find_eigenvalues(mat_2x2)\n",
    "print(f\"Найденные собственные значения: {eigenvalues_2x2}\")\n",
    "# Ожидаемые собственные значения: примерно [3.0, 1.0]\n",
    "\n",
    "print(\"\\nТестируем функцию find_eigenvectors (использует find_eigenvalues_and_vectors):\")\n",
    "eigenvectors_2x2 = find_eigenvectors(mat_2x2)\n",
    "print(f\"Найденные собственные векторы:\\n{[str(m) for m in eigenvectors_2x2]}\")\n",
    "# Ожидаемые собственные векторы: примерно [[0.707], [0.707]] и [[-0.707], [0.707]]\n",
    "\n",
    "\n",
    "print(\"\\n\" + \"=\"*30 + \"\\n\")\n",
    "\n",
    "# Пример симметричной матрицы 3x3\n",
    "# Matrix: [[4, 1, 2], [1, 5, 0], [2, 0, 3]]\n",
    "# Eigenvalues are approx 6.44, 3.10, 2.45\n",
    "matrix_data_3x3 = [[4.0, 1.0, 2.0], [1.0, 5.0, 0.0], [2.0, 0.0, 3.0]]\n",
    "mat_3x3 = Matrix(matrix_data_3x3)\n",
    "\n",
    "eigen_pairs_3x3 = find_eigenvalues_and_vectors(mat_3x3)\n",
    "print(f\"Матрица:\\n{mat_3x3}\")\n",
    "print(f\"Найденные пары (собственное значение, собственный вектор):\\n{eigen_pairs_3x3}\")\n",
    "\n",
    "print(\"\\nТестируем функцию find_eigenvalues (использует find_eigenvalues_and_vectors):\")\n",
    "eigenvalues_3x3 = find_eigenvalues(mat_3x3)\n",
    "print(f\"Найденные собственные значения: {eigenvalues_3x3}\")\n",
    "\n",
    "print(\"\\nТестируем функцию find_eigenvectors (использует find_eigenvalues_and_vectors):\")\n",
    "eigenvectors_3x3 = find_eigenvectors(mat_3x3)\n",
    "print(f\"Найденные собственные векторы:\\n{eigenvectors_3x3}\")"
   ]
  },
  {
   "cell_type": "markdown",
   "id": "19038836",
   "metadata": {},
   "source": [
    "### доля объясненной дисперсии\n"
   ]
  },
  {
   "cell_type": "code",
   "execution_count": null,
   "id": "3fe60bd0",
   "metadata": {},
   "outputs": [],
   "source": [
    "def explained_variance_ratio(eigenvalues: List[float], k: int) -> float:\n",
    "    \"\"\"\n",
    "    Вычисляет долю общей дисперсии, объясненной первыми k главными компонентами.\n",
    "\n",
    "    Вход:\n",
    "    eigenvalues: список вещественных собственных значений, отсортированный по убыванию.\n",
    "    k: число главных компонент (1 <= k <= len(eigenvalues)).\n",
    "    Выход: доля объяснённой дисперсии (значение от 0.0 до 1.0).\n",
    "           Возвращает 0.0, если сумма собственных значений равна 0.\n",
    "    \"\"\"\n",
    "    if not eigenvalues:\n",
    "        return 0.0  # No variance if no eigenvalues\n",
    "\n",
    "    if not (1 <= k <= len(eigenvalues)):\n",
    "        raise ValueError(\"k must be between 1 and the number of eigenvalues.\")\n",
    "\n",
    "    total_variance = sum(eigenvalues)\n",
    "\n",
    "    if total_variance == 0:\n",
    "        return 0.0 \n",
    "\n",
    "    # Sum of the first k eigenvalues (variance explained by top k components)\n",
    "    variance_k_components = sum(eigenvalues[:k])\n",
    "\n",
    "    return variance_k_components / total_variance\n",
    "    \n"
   ]
  },
  {
   "cell_type": "code",
   "execution_count": null,
   "id": "0e5a44dd",
   "metadata": {},
   "outputs": [
    {
     "name": "stdout",
     "output_type": "stream",
     "text": [
      "\n",
      "==============================\n",
      "\n",
      "Тестируем функцию explained_variance_ratio:\n",
      "Собственные значения: [5.0, 3.0, 1.0]\n",
      "Доля объяснённой дисперсии для k=1: 0.5556\n",
      "Доля объяснённой дисперсии для k=2: 0.8889\n",
      "Доля объяснённой дисперсии для k=3: 1.0000\n",
      "\n",
      "Собственные значения: [3.0, 1.0]\n",
      "Доля объяснённой дисперсии для k=1: 0.7500\n",
      "Доля объяснённой дисперсии для k=2: 1.0000\n",
      "\n",
      "Собственные значения: [0.0, 0.0, 0.0]\n",
      "Доля объяснённой дисперсии для k=2: 0.0000\n",
      "\n",
      "Собственные значения: []\n"
     ]
    }
   ],
   "source": [
    "# --- Тесты функции explained_variance_ratio ---\n",
    "print(\"\\n\" + \"=\" * 30 + \"\\n\")\n",
    "print(\"Тестируем функцию explained_variance_ratio:\")\n",
    "\n",
    "# Пример 1: Простые собственные значения\n",
    "# Общая дисперсия = 5 + 3 + 1 = 9\n",
    "eigenvalues_test1 = [5.0, 3.0, 1.0]\n",
    "print(f\"Собственные значения: {eigenvalues_test1}\")\n",
    "\n",
    "# k = 1\n",
    "k1 = 1\n",
    "ratio1 = explained_variance_ratio(eigenvalues_test1, k1)\n",
    "print(f\"Доля объяснённой дисперсии для k={k1}: {ratio1:.4f}\")\n",
    "# Ожидаемо: (5.0) / (5.0 + 3.0 + 1.0) = 5/9 ≈ 0.5556\n",
    "\n",
    "# k = 2\n",
    "k2 = 2\n",
    "ratio2 = explained_variance_ratio(eigenvalues_test1, k2)\n",
    "print(f\"Доля объяснённой дисперсии для k={k2}: {ratio2:.4f}\")\n",
    "# Ожидаемо: (5.0 + 3.0) / (5.0 + 3.0 + 1.0) = 8/9 ≈ 0.8889\n",
    "\n",
    "# k = 3 (все компоненты)\n",
    "k3 = 3\n",
    "ratio3 = explained_variance_ratio(eigenvalues_test1, k3)\n",
    "print(f\"Доля объяснённой дисперсии для k={k3}: {ratio3:.4f}\")\n",
    "# Ожидаемо: (5.0 + 3.0 + 1.0) / (5.0 + 3.0 + 1.0) = 9/9 = 1.0000\n",
    "\n",
    "# Пример 2: Собственные значения из 2x2 матрицы (пример выше)\n",
    "# Общая дисперсия = 3.0 + 1.0 = 4.0\n",
    "eigenvalues_test2 = [3.0, 1.0]  # Assume sorted descending\n",
    "print(f\"\\nСобственные значения: {eigenvalues_test2}\")\n",
    "\n",
    "# k = 1\n",
    "k_2x2_1 = 1\n",
    "ratio_2x2_1 = explained_variance_ratio(eigenvalues_test2, k_2x2_1)\n",
    "print(f\"Доля объяснённой дисперсии для k={k_2x2_1}: {ratio_2x2_1:.4f}\")\n",
    "# Ожидаемо: 3.0 / 4.0 = 0.7500\n",
    "\n",
    "# k = 2\n",
    "k_2x2_2 = 2\n",
    "ratio_2x2_2 = explained_variance_ratio(eigenvalues_test2, k_2x2_2)\n",
    "print(f\"Доля объяснённой дисперсии для k={k_2x2_2}: {ratio_2x2_2:.4f}\")\n",
    "# Ожидаемо: 4.0 / 4.0 = 1.0000\n",
    "\n",
    "# Пример 3: Случай с нулевой общей дисперсией\n",
    "eigenvalues_test3 = [0.0, 0.0, 0.0]\n",
    "print(f\"\\nСобственные значения: {eigenvalues_test3}\")\n",
    "k_zero = 2\n",
    "ratio_zero = explained_variance_ratio(eigenvalues_test3, k_zero)\n",
    "print(f\"Доля объяснённой дисперсии для k={k_zero}: {ratio_zero:.4f}\")\n",
    "# Ожидаемо: 0.0 (из-за нулевой общей дисперсии)\n"
   ]
  },
  {
   "cell_type": "markdown",
   "id": "f3d7d4e3",
   "metadata": {},
   "source": [
    "## Hard\n"
   ]
  },
  {
   "cell_type": "markdown",
   "id": "5211cd8a",
   "metadata": {},
   "source": [
    "### полный алгоритм PCA\n"
   ]
  },
  {
   "cell_type": "code",
   "execution_count": 16,
   "id": "eae9457e",
   "metadata": {},
   "outputs": [],
   "source": [
    "'''1. Центрирование данных.\n",
    "2. Вычисление матрицы выборочных ковариаций.\n",
    "3. Нахождение собственных значений и векторов.\n",
    "4. Проекция данных на главные компоненты.'''\n",
    "def pca(X: 'Matrix', k: int) -> tuple['Matrix', float]:\n",
    "    \"\"\"\n",
    "    Вход:\n",
    "    X: матрица данных (n×m)\n",
    "    k: число главных компонент\n",
    "    Выход:\n",
    "    X_proj: проекция данных (n×k)\n",
    "    : доля объяснённой дисперсии\n",
    "    \"\"\"\n",
    "    pass"
   ]
  },
  {
   "cell_type": "code",
   "execution_count": 17,
   "id": "2c6451e0",
   "metadata": {},
   "outputs": [],
   "source": [
    "# для тестов"
   ]
  },
  {
   "cell_type": "code",
   "execution_count": 18,
   "id": "c59412ad",
   "metadata": {},
   "outputs": [],
   "source": [
    "# для тестов"
   ]
  },
  {
   "cell_type": "markdown",
   "id": "62d150c1",
   "metadata": {},
   "source": [
    "### Проекция данных на две главные компоненты\n"
   ]
  },
  {
   "cell_type": "code",
   "execution_count": 19,
   "id": "56a40987",
   "metadata": {},
   "outputs": [],
   "source": [
    "# Для импортов "
   ]
  },
  {
   "cell_type": "code",
   "execution_count": 20,
   "id": "41a5d4de",
   "metadata": {},
   "outputs": [
    {
     "ename": "NameError",
     "evalue": "name 'Figure' is not defined",
     "output_type": "error",
     "traceback": [
      "\u001b[0;31m---------------------------------------------------------------------------\u001b[0m",
      "\u001b[0;31mNameError\u001b[0m                                 Traceback (most recent call last)",
      "Cell \u001b[0;32mIn[20], line 1\u001b[0m\n\u001b[0;32m----> 1\u001b[0m \u001b[38;5;28;01mdef\u001b[39;00m\u001b[38;5;250m \u001b[39m\u001b[38;5;21mplot_pca_projection\u001b[39m(X_proj: \u001b[38;5;124m'\u001b[39m\u001b[38;5;124mMatrix\u001b[39m\u001b[38;5;124m'\u001b[39m) \u001b[38;5;241m-\u001b[39m\u001b[38;5;241m>\u001b[39m \u001b[43mFigure\u001b[49m:\n\u001b[1;32m      2\u001b[0m \u001b[38;5;250m    \u001b[39m\u001b[38;5;124;03m\"\"\"\u001b[39;00m\n\u001b[1;32m      3\u001b[0m \u001b[38;5;124;03m    Вход: проекция данных X_proj (n×2)\u001b[39;00m\n\u001b[1;32m      4\u001b[0m \u001b[38;5;124;03m    Выход: объект Figure из Matplotlib\u001b[39;00m\n\u001b[1;32m      5\u001b[0m \u001b[38;5;124;03m    \"\"\"\u001b[39;00m\n\u001b[1;32m      6\u001b[0m     \u001b[38;5;28;01mpass\u001b[39;00m\n",
      "\u001b[0;31mNameError\u001b[0m: name 'Figure' is not defined"
     ]
    }
   ],
   "source": [
    "def plot_pca_projection(X_proj: 'Matrix') -> Figure:\n",
    "    \"\"\"\n",
    "    Вход: проекция данных X_proj (n×2)\n",
    "    Выход: объект Figure из Matplotlib\n",
    "    \"\"\"\n",
    "    pass"
   ]
  },
  {
   "cell_type": "code",
   "execution_count": null,
   "id": "da358b7f",
   "metadata": {},
   "outputs": [],
   "source": [
    "# для тестов"
   ]
  },
  {
   "cell_type": "markdown",
   "id": "2f54cd60",
   "metadata": {},
   "source": [
    "### MSE\n"
   ]
  },
  {
   "cell_type": "code",
   "execution_count": null,
   "id": "36cfa1a3",
   "metadata": {},
   "outputs": [],
   "source": [
    "def reconstruction_error(X_orig: 'Matrix', X_recon: 'Matrix') -> float:\n",
    "    \"\"\"\n",
    "    Вход:\n",
    "    X_orig: исходные данные (n×m)\n",
    "    X_recon: восстановленные данные (n×m)\n",
    "    Выход: среднеквадратическая ошибка MSE\n",
    "    \"\"\"\n",
    "    pass"
   ]
  },
  {
   "cell_type": "code",
   "execution_count": null,
   "id": "f31d857c",
   "metadata": {},
   "outputs": [],
   "source": [
    "# для тестов"
   ]
  },
  {
   "cell_type": "markdown",
   "id": "0f5a83b1",
   "metadata": {},
   "source": [
    "## Expert\n"
   ]
  },
  {
   "cell_type": "markdown",
   "id": "b9ba475c",
   "metadata": {},
   "source": [
    "### Автоматический выбор числа главных компонент на основе порога объяснённой дисперсии\n"
   ]
  },
  {
   "cell_type": "code",
   "execution_count": null,
   "id": "ab874404",
   "metadata": {},
   "outputs": [],
   "source": [
    "def auto_select_k(eigenvalues: List[float], threshold: float = 0.95) -> int:\n",
    "    \"\"\"\n",
    "    Вход:\n",
    "    eigenvalues: список собственных значений\n",
    "    threshold: порог объяснённой дисперсии\n",
    "    Выход: оптимальное число главных компонент k\n",
    "    \"\"\"\n",
    "    pass"
   ]
  },
  {
   "cell_type": "code",
   "execution_count": null,
   "id": "4741358b",
   "metadata": {},
   "outputs": [],
   "source": [
    "# Для тестов и результатов"
   ]
  },
  {
   "cell_type": "markdown",
   "id": "61b1fe55",
   "metadata": {},
   "source": [
    "### Обработать пропущенные значения в данных\n"
   ]
  },
  {
   "cell_type": "code",
   "execution_count": null,
   "id": "aabd0bf1",
   "metadata": {},
   "outputs": [],
   "source": [
    "def handle_missing_values(X: 'Matrix') -> 'Matrix':\n",
    "    \"\"\"\n",
    "    Вход: матрица данных X (n×m) с возможными NaN\n",
    "    Выход: матрица данных X_filled (n×m) без NaN\n",
    "    \"\"\"\n",
    "    pass"
   ]
  },
  {
   "cell_type": "code",
   "execution_count": null,
   "id": "95b6a2e3",
   "metadata": {},
   "outputs": [],
   "source": [
    "# Для тестов и результатов"
   ]
  },
  {
   "cell_type": "markdown",
   "id": "a055002e",
   "metadata": {},
   "source": [
    "### Влияние шума на PCA\n"
   ]
  },
  {
   "cell_type": "code",
   "execution_count": null,
   "id": "98d2b365",
   "metadata": {},
   "outputs": [],
   "source": [
    "def add_noise_and_compare(X: 'Matrix', noise_level: float = 0.1):\n",
    "    \"\"\"\n",
    "    Вход:\n",
    "    X: матрица данных (n×m)\n",
    "    noise_level: уровень шума (доля от стандартного отклонения)\n",
    "    Выход: результаты PCA до и после добавления шума.\n",
    "    В этом задании можете проявить творческие способности, поэтому выходные данные не\n",
    "    ,→ типизированы.\n",
    "    \"\"\"\n",
    "    pass"
   ]
  },
  {
   "cell_type": "code",
   "execution_count": null,
   "id": "d8b90631",
   "metadata": {},
   "outputs": [],
   "source": [
    "# Для тестов и результатов работы"
   ]
  },
  {
   "cell_type": "markdown",
   "id": "4399eca6",
   "metadata": {},
   "source": [
    "### PCA к реальному датасету\n"
   ]
  },
  {
   "cell_type": "code",
   "execution_count": null,
   "id": "cf015d76",
   "metadata": {},
   "outputs": [],
   "source": [
    "# Для импорттов"
   ]
  },
  {
   "cell_type": "code",
   "execution_count": null,
   "id": "4fc933ff",
   "metadata": {},
   "outputs": [],
   "source": [
    "# Для загрузки"
   ]
  },
  {
   "cell_type": "code",
   "execution_count": null,
   "id": "60c7ac00",
   "metadata": {},
   "outputs": [],
   "source": [
    "def apply_pca_to_dataset(dataset_name: str, k: int) -> Tuple['Matrix', float]:\n",
    "    \"\"\"\n",
    "    Вход:\n",
    "    dataset_name: название датасета\n",
    "    k: число главных компонент\n",
    "    Выход: кортеж (проекция данных, качество модели)\n",
    "    \"\"\"\n",
    "    pass"
   ]
  },
  {
   "cell_type": "code",
   "execution_count": null,
   "id": "2cfc14fd",
   "metadata": {},
   "outputs": [],
   "source": [
    "# Применение и результаты"
   ]
  }
 ],
 "metadata": {
  "kernelspec": {
   "display_name": "pylab1env",
   "language": "python",
   "name": "python3"
  },
  "language_info": {
   "codemirror_mode": {
    "name": "ipython",
    "version": 3
   },
   "file_extension": ".py",
   "mimetype": "text/x-python",
   "name": "python",
   "nbconvert_exporter": "python",
   "pygments_lexer": "ipython3",
   "version": "3.13.2"
  }
 },
 "nbformat": 4,
 "nbformat_minor": 5
}
