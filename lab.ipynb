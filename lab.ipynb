{
 "cells": [
  {
   "cell_type": "code",
   "execution_count": null,
   "id": "dbea4532",
   "metadata": {},
   "outputs": [],
   "source": [
    "import pprint\n",
    "from typing import List\n",
    "from matrix import Matrix"
   ]
  },
  {
   "cell_type": "markdown",
   "id": "641cc629",
   "metadata": {},
   "source": [
    "# Матрица"
   ]
  },
  {
   "cell_type": "code",
   "execution_count": null,
   "id": "e5aa22d6",
   "metadata": {},
   "outputs": [
    {
     "name": "stdout",
     "output_type": "stream",
     "text": [
      "\n",
      "[16, 20]\n",
      "[2, 4]\n",
      " \n",
      "[1, 2]\n",
      "[3, 4]\n",
      "[5, 6]\n",
      "\n",
      "0.0\n",
      "0.0\n",
      "[5, 6, 7]\n"
     ]
    }
   ],
   "source": [
    "a = Matrix([[1, 2], [3, 4], [5, 6]])\n",
    "b = Matrix([[0, 2], [2, 0], [2, 0]])\n",
    "print( b.transpose() * a , a)\n",
    "\n",
    "c = Matrix([\n",
    "    [1, 2, 3],\n",
    "    [4, 5, 6],\n",
    "    [7, 8, 9]])\n",
    "\n",
    "print(c.determinant()) # Должен быть ноль\n",
    "\n",
    "d = Matrix([\n",
    "    [2, 3, 4],\n",
    "    [5, 6, 7],\n",
    "    [8, 9, 10]\n",
    "])\n",
    "print(c.determinant())\n",
    "\n",
    "print(d[1])\n"
   ]
  },
  {
   "cell_type": "markdown",
   "id": "9fcd40c6",
   "metadata": {},
   "source": [
    "# PCA"
   ]
  },
  {
   "cell_type": "markdown",
   "id": "6b053014",
   "metadata": {},
   "source": [
    "## Easy"
   ]
  },
  {
   "cell_type": "markdown",
   "id": "c1efdfd6",
   "metadata": {},
   "source": [
    "### Метод гауса"
   ]
  },
  {
   "cell_type": "code",
   "execution_count": null,
   "id": "45e5e524",
   "metadata": {},
   "outputs": [],
   "source": [
    "def gauss_solver(A: 'Matrix', b: 'Matrix') -> List['Matrix']:\n",
    "    n = A.size[0]\n",
    "    augmented = A.augment(b)  # Расширенная матрица [A|b]\n",
    "    \n",
    "    # Прямой ход: приведение к ступенчатому виду\n",
    "    rank = 0\n",
    "    pivot_cols = []\n",
    "    for col in range(augmented.cols - 1):  # Исключаем последний столбец (вектор b)\n",
    "        # Поиск ненулевого элемента в текущем столбце\n",
    "        pivot_row = -1\n",
    "        for row in range(rank, n):\n",
    "            if abs(augmented[row][col]) > 1e-10:\n",
    "                pivot_row = row\n",
    "                break\n",
    "        if pivot_row == -1:\n",
    "            continue  # Все элементы столбца нулевые\n",
    "        \n",
    "        # Перестановка строк\n",
    "        augmented.swap_rows(rank, pivot_row)\n",
    "        # Нормализация ведущей строки\n",
    "        pivot = augmented[rank][col]\n",
    "        for c in range(col, augmented.cols):\n",
    "            augmented[rank][c] /= pivot\n",
    "        # Исключение элементов ниже ведущего\n",
    "        for row in range(rank + 1, n):\n",
    "            factor = augmented[row][col]\n",
    "            for c in range(col, augmented.cols):\n",
    "                augmented[row][c] -= factor * augmented[rank][c]\n",
    "        pivot_cols.append(col)\n",
    "        rank += 1\n",
    "\n",
    "    # Проверка на несовместность\n",
    "    for row in range(rank, n):\n",
    "        if abs(augmented[row][-1]) > 1e-10:\n",
    "            raise ValueError(\"Система несовместна\")\n",
    "\n",
    "    # Определение свободных переменных\n",
    "    all_vars = list(range(A.))\n",
    "    leading_vars = pivot_cols\n",
    "    free_vars = [var for var in all_vars if var not in leading_vars]\n",
    "    \n",
    "    # Если нет свободных переменных: единственное решение\n",
    "    if not free_vars:\n",
    "        x = [0] * A.cols\n",
    "        for row in reversed(range(rank)):\n",
    "            x[leading_vars[row]] = augmented[row][-1]\n",
    "            for col in range(leading_vars[row] + 1, A.cols):\n",
    "                x[leading_vars[row]] -= augmented[row][col] * x[col]\n",
    "        return [Matrix([x])]\n",
    "\n",
    "    # Построение базисных векторов\n",
    "    basis = []\n",
    "    for var in free_vars:\n",
    "        solution = [0] * A.cols\n",
    "        solution[var] = 1  # Свободная переменная = 1\n",
    "        # Вычисление главных переменных\n",
    "        for row in reversed(range(rank)):\n",
    "            col = leading_vars[row]\n",
    "            solution[col] = augmented[row][-1]\n",
    "            for c in range(col + 1, A.cols):\n",
    "                solution[col] -= augmented[row][c] * solution[c]\n",
    "        basis.append(Matrix([solution]))\n",
    "    \n",
    "    return basis\n"
   ]
  },
  {
   "cell_type": "code",
   "execution_count": null,
   "id": "1d67d4a7",
   "metadata": {},
   "outputs": [
    {
     "ename": "AttributeError",
     "evalue": "'Matrix' object has no attribute 'rows'",
     "output_type": "error",
     "traceback": [
      "\u001b[31m---------------------------------------------------------------------------\u001b[39m",
      "\u001b[31mAttributeError\u001b[39m                            Traceback (most recent call last)",
      "\u001b[36mCell\u001b[39m\u001b[36m \u001b[39m\u001b[32mIn[9]\u001b[39m\u001b[32m, line 8\u001b[39m\n\u001b[32m      1\u001b[39m A = Matrix([\n\u001b[32m      2\u001b[39m     [\u001b[32m1\u001b[39m, \u001b[32m2\u001b[39m, \u001b[32m3\u001b[39m],\n\u001b[32m      3\u001b[39m     [\u001b[32m4\u001b[39m, \u001b[32m5\u001b[39m, \u001b[32m6\u001b[39m],\n\u001b[32m      4\u001b[39m     [\u001b[32m7\u001b[39m, \u001b[32m8\u001b[39m, \u001b[32m9\u001b[39m]\n\u001b[32m      5\u001b[39m ])\n\u001b[32m      6\u001b[39m b = Matrix([[\u001b[32m6\u001b[39m], [\u001b[32m15\u001b[39m], [\u001b[32m24\u001b[39m]])\n\u001b[32m----> \u001b[39m\u001b[32m8\u001b[39m solutions = \u001b[43mgauss_solver\u001b[49m\u001b[43m(\u001b[49m\u001b[43mA\u001b[49m\u001b[43m,\u001b[49m\u001b[43m \u001b[49m\u001b[43mb\u001b[49m\u001b[43m)\u001b[49m  \u001b[38;5;66;03m# Возвращает базисные векторы (если система неопределённа)\u001b[39;00m\n",
      "\u001b[36mCell\u001b[39m\u001b[36m \u001b[39m\u001b[32mIn[8]\u001b[39m\u001b[32m, line 2\u001b[39m, in \u001b[36mgauss_solver\u001b[39m\u001b[34m(A, b)\u001b[39m\n\u001b[32m      1\u001b[39m \u001b[38;5;28;01mdef\u001b[39;00m\u001b[38;5;250m \u001b[39m\u001b[34mgauss_solver\u001b[39m(A: \u001b[33m'\u001b[39m\u001b[33mMatrix\u001b[39m\u001b[33m'\u001b[39m, b: \u001b[33m'\u001b[39m\u001b[33mMatrix\u001b[39m\u001b[33m'\u001b[39m) -> List[\u001b[33m'\u001b[39m\u001b[33mMatrix\u001b[39m\u001b[33m'\u001b[39m]:\n\u001b[32m----> \u001b[39m\u001b[32m2\u001b[39m     n = \u001b[43mA\u001b[49m\u001b[43m.\u001b[49m\u001b[43mrows\u001b[49m\n\u001b[32m      3\u001b[39m     augmented = A.augment(b)  \u001b[38;5;66;03m# Расширенная матрица [A|b]\u001b[39;00m\n\u001b[32m      5\u001b[39m     \u001b[38;5;66;03m# Прямой ход: приведение к ступенчатому виду\u001b[39;00m\n",
      "\u001b[31mAttributeError\u001b[39m: 'Matrix' object has no attribute 'rows'"
     ]
    }
   ],
   "source": [
    "\n",
    "A = Matrix([\n",
    "    [1, 2, 3],\n",
    "    [4, 5, 6],\n",
    "    [7, 8, 9]\n",
    "])\n",
    "b = Matrix([[6], [15], [24]])\n",
    "\n",
    "solutions = gauss_solver(A, b)  # Возвращает базисные векторы (если система неопределённа)"
   ]
  },
  {
   "cell_type": "markdown",
   "id": "dd7f72b8",
   "metadata": {},
   "source": []
  }
 ],
 "metadata": {
  "kernelspec": {
   "display_name": "Python 3",
   "language": "python",
   "name": "python3"
  },
  "language_info": {
   "codemirror_mode": {
    "name": "ipython",
    "version": 3
   },
   "file_extension": ".py",
   "mimetype": "text/x-python",
   "name": "python",
   "nbconvert_exporter": "python",
   "pygments_lexer": "ipython3",
   "version": "3.13.3"
  }
 },
 "nbformat": 4,
 "nbformat_minor": 5
}
